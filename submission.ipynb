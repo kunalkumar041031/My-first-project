{
 "cells": [
  {
   "cell_type": "code",
   "execution_count": 91,
   "id": "9d53fca3",
   "metadata": {},
   "outputs": [],
   "source": [
    "import pandas as pd"
   ]
  },
  {
   "cell_type": "code",
   "execution_count": 92,
   "id": "467c2962",
   "metadata": {},
   "outputs": [],
   "source": [
    "train = pd.read_table('Test_Data.csv', sep=',')"
   ]
  },
  {
   "cell_type": "code",
   "execution_count": 93,
   "id": "6592dab8",
   "metadata": {},
   "outputs": [
    {
     "data": {
      "text/html": [
       "<div>\n",
       "<style scoped>\n",
       "    .dataframe tbody tr th:only-of-type {\n",
       "        vertical-align: middle;\n",
       "    }\n",
       "\n",
       "    .dataframe tbody tr th {\n",
       "        vertical-align: top;\n",
       "    }\n",
       "\n",
       "    .dataframe thead th {\n",
       "        text-align: right;\n",
       "    }\n",
       "</style>\n",
       "<table border=\"1\" class=\"dataframe\">\n",
       "  <thead>\n",
       "    <tr style=\"text-align: right;\">\n",
       "      <th></th>\n",
       "      <th>date</th>\n",
       "      <th>campaign</th>\n",
       "      <th>adgroup</th>\n",
       "      <th>ad</th>\n",
       "      <th>cost</th>\n",
       "      <th>impressions</th>\n",
       "      <th>clicks</th>\n",
       "      <th>conversions</th>\n",
       "    </tr>\n",
       "  </thead>\n",
       "  <tbody>\n",
       "    <tr>\n",
       "      <th>0</th>\n",
       "      <td>01-03-2021</td>\n",
       "      <td>campaign 1</td>\n",
       "      <td>adgroup 1</td>\n",
       "      <td>ad 1</td>\n",
       "      <td>0.58</td>\n",
       "      <td>121</td>\n",
       "      <td>49</td>\n",
       "      <td>1</td>\n",
       "    </tr>\n",
       "    <tr>\n",
       "      <th>1</th>\n",
       "      <td>01-03-2021</td>\n",
       "      <td>campaign 1</td>\n",
       "      <td>adgroup 3</td>\n",
       "      <td>ad 1</td>\n",
       "      <td>0.17</td>\n",
       "      <td>22</td>\n",
       "      <td>12</td>\n",
       "      <td>0</td>\n",
       "    </tr>\n",
       "    <tr>\n",
       "      <th>2</th>\n",
       "      <td>01-03-2021</td>\n",
       "      <td>campaign 1</td>\n",
       "      <td>adgroup 4</td>\n",
       "      <td>ad 1</td>\n",
       "      <td>0.05</td>\n",
       "      <td>5</td>\n",
       "      <td>3</td>\n",
       "      <td>0</td>\n",
       "    </tr>\n",
       "    <tr>\n",
       "      <th>3</th>\n",
       "      <td>01-03-2021</td>\n",
       "      <td>campaign 1</td>\n",
       "      <td>adgroup 2</td>\n",
       "      <td>ad 1</td>\n",
       "      <td>0.01</td>\n",
       "      <td>2</td>\n",
       "      <td>1</td>\n",
       "      <td>0</td>\n",
       "    </tr>\n",
       "    <tr>\n",
       "      <th>4</th>\n",
       "      <td>01-03-2021</td>\n",
       "      <td>campaign 1</td>\n",
       "      <td>adgroup 2</td>\n",
       "      <td>ad 2</td>\n",
       "      <td>0.01</td>\n",
       "      <td>3</td>\n",
       "      <td>1</td>\n",
       "      <td>0</td>\n",
       "    </tr>\n",
       "  </tbody>\n",
       "</table>\n",
       "</div>"
      ],
      "text/plain": [
       "         date    campaign    adgroup    ad  cost  impressions  clicks  \\\n",
       "0  01-03-2021  campaign 1  adgroup 1  ad 1  0.58          121      49   \n",
       "1  01-03-2021  campaign 1  adgroup 3  ad 1  0.17           22      12   \n",
       "2  01-03-2021  campaign 1  adgroup 4  ad 1  0.05            5       3   \n",
       "3  01-03-2021  campaign 1  adgroup 2  ad 1  0.01            2       1   \n",
       "4  01-03-2021  campaign 1  adgroup 2  ad 2  0.01            3       1   \n",
       "\n",
       "   conversions  \n",
       "0            1  \n",
       "1            0  \n",
       "2            0  \n",
       "3            0  \n",
       "4            0  "
      ]
     },
     "execution_count": 93,
     "metadata": {},
     "output_type": "execute_result"
    }
   ],
   "source": [
    "train.head()"
   ]
  },
  {
   "cell_type": "code",
   "execution_count": 94,
   "id": "ed1c2902",
   "metadata": {},
   "outputs": [],
   "source": [
    "new = pd.DataFrame(train)"
   ]
  },
  {
   "cell_type": "code",
   "execution_count": 95,
   "id": "8319580c",
   "metadata": {},
   "outputs": [],
   "source": [
    "new['revenue'] = new['cost']*new['impressions']*new['clicks']"
   ]
  },
  {
   "cell_type": "code",
   "execution_count": 96,
   "id": "d16602ca",
   "metadata": {},
   "outputs": [
    {
     "data": {
      "text/html": [
       "<div>\n",
       "<style scoped>\n",
       "    .dataframe tbody tr th:only-of-type {\n",
       "        vertical-align: middle;\n",
       "    }\n",
       "\n",
       "    .dataframe tbody tr th {\n",
       "        vertical-align: top;\n",
       "    }\n",
       "\n",
       "    .dataframe thead th {\n",
       "        text-align: right;\n",
       "    }\n",
       "</style>\n",
       "<table border=\"1\" class=\"dataframe\">\n",
       "  <thead>\n",
       "    <tr style=\"text-align: right;\">\n",
       "      <th></th>\n",
       "      <th>date</th>\n",
       "      <th>campaign</th>\n",
       "      <th>adgroup</th>\n",
       "      <th>ad</th>\n",
       "      <th>cost</th>\n",
       "      <th>impressions</th>\n",
       "      <th>clicks</th>\n",
       "      <th>conversions</th>\n",
       "      <th>revenue</th>\n",
       "    </tr>\n",
       "  </thead>\n",
       "  <tbody>\n",
       "    <tr>\n",
       "      <th>0</th>\n",
       "      <td>01-03-2021</td>\n",
       "      <td>campaign 1</td>\n",
       "      <td>adgroup 1</td>\n",
       "      <td>ad 1</td>\n",
       "      <td>0.58</td>\n",
       "      <td>121</td>\n",
       "      <td>49</td>\n",
       "      <td>1</td>\n",
       "      <td>3438.82</td>\n",
       "    </tr>\n",
       "    <tr>\n",
       "      <th>1</th>\n",
       "      <td>01-03-2021</td>\n",
       "      <td>campaign 1</td>\n",
       "      <td>adgroup 3</td>\n",
       "      <td>ad 1</td>\n",
       "      <td>0.17</td>\n",
       "      <td>22</td>\n",
       "      <td>12</td>\n",
       "      <td>0</td>\n",
       "      <td>44.88</td>\n",
       "    </tr>\n",
       "    <tr>\n",
       "      <th>2</th>\n",
       "      <td>01-03-2021</td>\n",
       "      <td>campaign 1</td>\n",
       "      <td>adgroup 4</td>\n",
       "      <td>ad 1</td>\n",
       "      <td>0.05</td>\n",
       "      <td>5</td>\n",
       "      <td>3</td>\n",
       "      <td>0</td>\n",
       "      <td>0.75</td>\n",
       "    </tr>\n",
       "    <tr>\n",
       "      <th>3</th>\n",
       "      <td>01-03-2021</td>\n",
       "      <td>campaign 1</td>\n",
       "      <td>adgroup 2</td>\n",
       "      <td>ad 1</td>\n",
       "      <td>0.01</td>\n",
       "      <td>2</td>\n",
       "      <td>1</td>\n",
       "      <td>0</td>\n",
       "      <td>0.02</td>\n",
       "    </tr>\n",
       "    <tr>\n",
       "      <th>4</th>\n",
       "      <td>01-03-2021</td>\n",
       "      <td>campaign 1</td>\n",
       "      <td>adgroup 2</td>\n",
       "      <td>ad 2</td>\n",
       "      <td>0.01</td>\n",
       "      <td>3</td>\n",
       "      <td>1</td>\n",
       "      <td>0</td>\n",
       "      <td>0.03</td>\n",
       "    </tr>\n",
       "  </tbody>\n",
       "</table>\n",
       "</div>"
      ],
      "text/plain": [
       "         date    campaign    adgroup    ad  cost  impressions  clicks  \\\n",
       "0  01-03-2021  campaign 1  adgroup 1  ad 1  0.58          121      49   \n",
       "1  01-03-2021  campaign 1  adgroup 3  ad 1  0.17           22      12   \n",
       "2  01-03-2021  campaign 1  adgroup 4  ad 1  0.05            5       3   \n",
       "3  01-03-2021  campaign 1  adgroup 2  ad 1  0.01            2       1   \n",
       "4  01-03-2021  campaign 1  adgroup 2  ad 2  0.01            3       1   \n",
       "\n",
       "   conversions  revenue  \n",
       "0            1  3438.82  \n",
       "1            0    44.88  \n",
       "2            0     0.75  \n",
       "3            0     0.02  \n",
       "4            0     0.03  "
      ]
     },
     "execution_count": 96,
     "metadata": {},
     "output_type": "execute_result"
    }
   ],
   "source": [
    "new.head()"
   ]
  },
  {
   "cell_type": "code",
   "execution_count": 97,
   "id": "a40db8b0",
   "metadata": {},
   "outputs": [],
   "source": [
    "x = new.head()"
   ]
  },
  {
   "cell_type": "code",
   "execution_count": 98,
   "id": "48361090",
   "metadata": {},
   "outputs": [
    {
     "data": {
      "text/html": [
       "<div>\n",
       "<style scoped>\n",
       "    .dataframe tbody tr th:only-of-type {\n",
       "        vertical-align: middle;\n",
       "    }\n",
       "\n",
       "    .dataframe tbody tr th {\n",
       "        vertical-align: top;\n",
       "    }\n",
       "\n",
       "    .dataframe thead th {\n",
       "        text-align: right;\n",
       "    }\n",
       "</style>\n",
       "<table border=\"1\" class=\"dataframe\">\n",
       "  <thead>\n",
       "    <tr style=\"text-align: right;\">\n",
       "      <th></th>\n",
       "      <th>date</th>\n",
       "      <th>campaign</th>\n",
       "      <th>adgroup</th>\n",
       "      <th>ad</th>\n",
       "      <th>cost</th>\n",
       "      <th>impressions</th>\n",
       "      <th>clicks</th>\n",
       "      <th>conversions</th>\n",
       "      <th>revenue</th>\n",
       "    </tr>\n",
       "  </thead>\n",
       "  <tbody>\n",
       "    <tr>\n",
       "      <th>0</th>\n",
       "      <td>01-03-2021</td>\n",
       "      <td>campaign 1</td>\n",
       "      <td>adgroup 1</td>\n",
       "      <td>ad 1</td>\n",
       "      <td>0.58</td>\n",
       "      <td>121</td>\n",
       "      <td>49</td>\n",
       "      <td>1</td>\n",
       "      <td>3438.82</td>\n",
       "    </tr>\n",
       "    <tr>\n",
       "      <th>1</th>\n",
       "      <td>01-03-2021</td>\n",
       "      <td>campaign 1</td>\n",
       "      <td>adgroup 3</td>\n",
       "      <td>ad 1</td>\n",
       "      <td>0.17</td>\n",
       "      <td>22</td>\n",
       "      <td>12</td>\n",
       "      <td>0</td>\n",
       "      <td>44.88</td>\n",
       "    </tr>\n",
       "    <tr>\n",
       "      <th>2</th>\n",
       "      <td>01-03-2021</td>\n",
       "      <td>campaign 1</td>\n",
       "      <td>adgroup 4</td>\n",
       "      <td>ad 1</td>\n",
       "      <td>0.05</td>\n",
       "      <td>5</td>\n",
       "      <td>3</td>\n",
       "      <td>0</td>\n",
       "      <td>0.75</td>\n",
       "    </tr>\n",
       "    <tr>\n",
       "      <th>3</th>\n",
       "      <td>01-03-2021</td>\n",
       "      <td>campaign 1</td>\n",
       "      <td>adgroup 2</td>\n",
       "      <td>ad 1</td>\n",
       "      <td>0.01</td>\n",
       "      <td>2</td>\n",
       "      <td>1</td>\n",
       "      <td>0</td>\n",
       "      <td>0.02</td>\n",
       "    </tr>\n",
       "    <tr>\n",
       "      <th>4</th>\n",
       "      <td>01-03-2021</td>\n",
       "      <td>campaign 1</td>\n",
       "      <td>adgroup 2</td>\n",
       "      <td>ad 2</td>\n",
       "      <td>0.01</td>\n",
       "      <td>3</td>\n",
       "      <td>1</td>\n",
       "      <td>0</td>\n",
       "      <td>0.03</td>\n",
       "    </tr>\n",
       "  </tbody>\n",
       "</table>\n",
       "</div>"
      ],
      "text/plain": [
       "         date    campaign    adgroup    ad  cost  impressions  clicks  \\\n",
       "0  01-03-2021  campaign 1  adgroup 1  ad 1  0.58          121      49   \n",
       "1  01-03-2021  campaign 1  adgroup 3  ad 1  0.17           22      12   \n",
       "2  01-03-2021  campaign 1  adgroup 4  ad 1  0.05            5       3   \n",
       "3  01-03-2021  campaign 1  adgroup 2  ad 1  0.01            2       1   \n",
       "4  01-03-2021  campaign 1  adgroup 2  ad 2  0.01            3       1   \n",
       "\n",
       "   conversions  revenue  \n",
       "0            1  3438.82  \n",
       "1            0    44.88  \n",
       "2            0     0.75  \n",
       "3            0     0.02  \n",
       "4            0     0.03  "
      ]
     },
     "execution_count": 98,
     "metadata": {},
     "output_type": "execute_result"
    }
   ],
   "source": [
    "x"
   ]
  },
  {
   "cell_type": "code",
   "execution_count": 99,
   "id": "a45d15a4",
   "metadata": {},
   "outputs": [],
   "source": [
    "feature_col = ['revenue']"
   ]
  },
  {
   "cell_type": "code",
   "execution_count": 100,
   "id": "38a8f3de",
   "metadata": {},
   "outputs": [],
   "source": [
    "X = new.loc[:,feature_col]"
   ]
  },
  {
   "cell_type": "code",
   "execution_count": 101,
   "id": "4e9093f1",
   "metadata": {},
   "outputs": [
    {
     "data": {
      "text/plain": [
       "(318, 1)"
      ]
     },
     "execution_count": 101,
     "metadata": {},
     "output_type": "execute_result"
    }
   ],
   "source": [
    "X.shape"
   ]
  },
  {
   "cell_type": "code",
   "execution_count": 102,
   "id": "4735c56e",
   "metadata": {},
   "outputs": [],
   "source": [
    "\n",
    "import matplotlib.pyplot as plt  # To visualize\n",
    "from sklearn.linear_model import LinearRegression"
   ]
  },
  {
   "cell_type": "code",
   "execution_count": 103,
   "id": "8774e8f8",
   "metadata": {},
   "outputs": [],
   "source": [
    "Y = new.cost"
   ]
  },
  {
   "cell_type": "code",
   "execution_count": 104,
   "id": "bc349cd7",
   "metadata": {},
   "outputs": [],
   "source": [
    "linear_regressor = LinearRegression()  # create object for the class\n",
    "linear_regressor.fit(X, Y)  # perform linear regression\n",
    "Y_prd = linear_regressor.predict(X)  # make predictions"
   ]
  },
  {
   "cell_type": "code",
   "execution_count": 105,
   "id": "1966e677",
   "metadata": {},
   "outputs": [
    {
     "data": {
      "image/png": "[encoded data removed]",
      "text/plain": [
       "<Figure size 432x288 with 1 Axes>"
      ]
     },
     "metadata": {
      "needs_background": "light"
     },
     "output_type": "display_data"
    }
   ],
   "source": [
    "\n",
    "plt.scatter(X, Y)\n",
    "plt.plot(X, Y_prd, color='red')\n",
    "plt.show()"
   ]
  },
  {
   "cell_type": "code",
   "execution_count": 106,
   "id": "4a1ccc99",
   "metadata": {},
   "outputs": [
    {
     "name": "stdout",
     "output_type": "stream",
     "text": [
      "[0.30965626 0.28193516 0.28157472 0.28156875 0.28156883 0.28157055\n",
      " 0.74462821 0.28156859 0.38535939 0.28158819 0.71477025 0.28199626\n",
      " 0.28165435 0.37115587 0.28156957 0.28847857 0.28196064 0.40234797\n",
      " 0.28217235 0.28252128 0.28156859 0.31011023 0.28156957 0.73559673\n",
      " 0.28156859 0.2815699  0.77153498 0.4927584  0.28158002 0.28156859\n",
      " 0.28266242 0.28160289 0.38901726 0.29666125 0.28183723 0.28157251\n",
      " 0.38406658 0.28185283 0.28156859 0.28158697 0.28163655 0.28243307\n",
      " 0.28156859 0.28419291 0.28756704 0.28156875 0.28157717 0.28157006\n",
      " 0.2818659  0.2816372  0.28156859 0.28159432 0.28345536 0.34383851\n",
      " 0.36286521 0.28157153 0.28156867 0.28156957 0.28157006 1.04878025\n",
      " 0.28156883 0.32190048 0.28156892 0.80955701 0.28157447 0.29821788\n",
      " 0.68699165 0.92613012 0.28156867 0.28157962 0.68421721 0.28156875\n",
      " 0.28157055 0.28156859 0.38057982 0.28835442 0.62741867 0.28156875\n",
      " 0.31954406 0.28159718 0.48333029 0.28156875 0.28261407 0.29099785\n",
      " 0.28158166 0.2815877  1.17066376 2.41029079 0.28156859 0.3307147\n",
      " 0.28639871 0.28192961 0.28485009 0.28410911 0.29437165 0.28156875\n",
      " 0.28156859 0.28156859 0.31071105 0.281569   0.3110443  0.28156867\n",
      " 0.28157839 3.53290007 0.28157226 3.10475592 0.28157153 0.29062507\n",
      " 0.28156924 0.30949519 0.28156859 0.33173943 0.28161319 0.31126973\n",
      " 0.28161319 4.49571374 0.28163034 4.88901298 0.34219041 0.29135772\n",
      " 0.28157226 0.28157006 0.329672   0.28156892 0.28159995 0.28156859\n",
      " 0.7087375  0.28157022 0.83582521 0.44869121 0.28156924 0.28156924\n",
      " 0.28161662 0.28158983 0.41222866 0.28178422 0.28221181 0.28159799\n",
      " 0.43655864 0.28156859 0.28250952 0.28156859 0.28166268 0.28156867\n",
      " 0.28213233 0.28156867 0.28158329 0.28502227 0.29864652 0.28163916\n",
      " 0.28157104 0.28156859 0.40568354 0.28156859 0.4895589  0.28157055\n",
      " 0.48716246 0.28157251 0.28166121 0.28157643 0.36008782 0.28156859\n",
      " 0.28228899 0.28165778 0.38334079 0.28156859 0.28425466 0.28195672\n",
      " 0.28156867 0.28178177 0.28158689 0.28156859 0.28864029 0.29847002\n",
      " 0.28156859 0.28168621 0.28156859 0.28156908 0.36956666 0.28156908\n",
      " 0.28157153 0.40110107 0.28156859 0.65529544 0.2819729  0.28218853\n",
      " 0.3227697  0.2816421  0.2829648  0.28156883 0.39746998 0.28180382\n",
      " 0.28521471 0.28169405 0.28166464 0.28171193 0.28156859 0.28156859\n",
      " 0.28168768 0.29321141 0.28158819 0.28156957 0.48529089 0.28157349\n",
      " 0.28156859 0.44556783 0.61489437 0.2817344  0.28204494 0.34594083\n",
      " 0.28156957 0.28198025 0.28237361 0.37420182 0.28234045 0.28156892\n",
      " 0.28337204 0.28163548 0.28163377 0.28230729 0.28156859 0.28170091\n",
      " 0.29430721 0.28156867 0.28157349 0.40447715 0.28156924 0.28156892\n",
      " 0.45091008 0.28156875 0.47270093 0.28169209 0.28217235 0.31721231\n",
      " 0.28162005 0.28174379 0.28156924 0.37054557 0.28328873 0.28549306\n",
      " 0.28156859 0.28157202 0.28184711 0.28165092 0.28156859 0.28178242\n",
      " 0.28156875 0.28637127 0.28157055 0.28156859 0.33461108 0.54973484\n",
      " 0.28157226 0.59934521 0.28156924 0.28308944 0.28174501 0.29073762\n",
      " 0.28164406 0.28225469 0.28156908 0.35722508 0.28257487 0.28419128\n",
      " 0.28156924 0.2816617  0.28195084 0.28157512 0.28156859 0.28157226\n",
      " 0.29056626 0.28156859 0.28167444 0.34735157 0.28156957 0.28157006\n",
      " 0.28158035 0.66840055 0.89991059 0.28157226 0.2816555  0.28171234\n",
      " 0.31041407 0.28156859 0.28208316 0.28192307 0.37526347 0.2826389\n",
      " 0.28156859 0.28160126 0.28162062 0.28313485 0.2819002  0.28156957\n",
      " 0.29933654 0.28164063 0.28156924 0.38931849 0.28156875 0.28156859\n",
      " 0.28156867 0.28157153 0.58975553 0.45705097 0.28218608 0.2818574\n",
      " 0.35598463 0.28174648 0.28157374 0.28292494 0.3252113  0.28181852\n",
      " 0.28156859 0.28156867 0.281569   0.28188305 0.28158623 0.28644453]\n"
     ]
    }
   ],
   "source": [
    "print(Y_prd)"
   ]
  },
  {
   "cell_type": "code",
   "execution_count": 107,
   "id": "6d5cf9b4",
   "metadata": {},
   "outputs": [],
   "source": [
    "import pandas as pd"
   ]
  },
  {
   "cell_type": "code",
   "execution_count": 108,
   "id": "576cf6ac",
   "metadata": {},
   "outputs": [],
   "source": [
    "output = pd.DataFrame({'revenue': Y_prd})\n",
    "output.to_csv('submission.csv', index=False)"
   ]
  },
  {
   "cell_type": "code",
   "execution_count": null,
   "id": "a16b90cc",
   "metadata": {},
   "outputs": [],
   "source": []
  }
 ],
 "metadata": {
  "kernelspec": {
   "display_name": "Python 3",
   "language": "python",
   "name": "python3"
  },
  "language_info": {
   "codemirror_mode": {
    "name": "ipython",
    "version": 3
   },
   "file_extension": ".py",
   "mimetype": "text/x-python",
   "name": "python",
   "nbconvert_exporter": "python",
   "pygments_lexer": "ipython3",
   "version": "3.8.8"
  }
 },
 "nbformat": 4,
 "nbformat_minor": 5
}
